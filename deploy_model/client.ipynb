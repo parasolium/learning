{
 "cells": [
  {
   "cell_type": "markdown",
   "id": "c321oomplwxZ",
   "metadata": {
    "id": "c321oomplwxZ"
   },
   "source": [
    "# Часть 2 - Использование модели машинного обучения\n",
    "\n",
    "Добро пожаловать во вторую часть задания!\n",
    "** Прежде чем продолжить, убедитесь, что сервер из первой части все еще работает.**\n",
    "\n",
    "В этом ноутбуке напишем крохотного клиента, который использует библиотеку запросов Python для взаимодействия с вашим работающим сервером."
   ]
  },
  {
   "cell_type": "code",
   "execution_count": null,
   "id": "xVdLP2FZlwxe",
   "metadata": {
    "id": "xVdLP2FZlwxe"
   },
   "outputs": [],
   "source": [
    "import os\n",
    "import io\n",
    "import cv2\n",
    "import requests\n",
    "import numpy as np\n",
    "from IPython.display import Image, display"
   ]
  },
  {
   "cell_type": "markdown",
   "id": "F7-JslWxlwxg",
   "metadata": {
    "id": "F7-JslWxlwxg"
   },
   "source": [
    "## Понимание URL-адреса\n",
    "\n",
    "\n",
    "### Разбивка URL-адреса\n",
    "\n",
    "После экспериментов с клиентом fast API вы, возможно, заметили, что мы выполняли все запросы, указывая на определенный URL-адрес и добавляя к нему некоторые параметры.\n",
    "\n",
    "Более конкретно:\n",
    "\n",
    "1. Сервер размещен по URL-адресу [http://localhost:8000/](http://localhost:8000/).\n",
    "2. Конечная точка, которая обслуживает вашу модель, - это конечная точка \"/predict\".\n",
    "\n",
    "Также вы можете указать модель для использования: `yolov3` или `yolov3-tiny`. Давайте придерживаться `yolov3-tiny` для повышения вычислительной эффективности.\n",
    "\n",
    "Давайте начнем с того, что введем в действие всю эту информацию."
   ]
  },
  {
   "cell_type": "code",
   "execution_count": null,
   "id": "iStil49Olwxj",
   "metadata": {
    "id": "iStil49Olwxj"
   },
   "outputs": [],
   "source": [
    "base_url = 'http://localhost:8000'\n",
    "endpoint = '/predict'\n",
    "model = 'yolov3-tiny'"
   ]
  },
  {
   "cell_type": "markdown",
   "id": "T2fjI2zqlwxk",
   "metadata": {
    "id": "T2fjI2zqlwxk"
   },
   "source": [
    "Чтобы использовать вашу модель, вы добавляете конечную точку к базовому URL-адресу, чтобы получить полный URL-адрес. Обратите внимание, что параметры пока отсутствуют."
   ]
  },
  {
   "cell_type": "code",
   "execution_count": null,
   "id": "sh2vCOazlwxl",
   "metadata": {
    "id": "sh2vCOazlwxl"
   },
   "outputs": [],
   "source": [
    "url_with_endpoint_no_params = base_url + endpoint\n",
    "url_with_endpoint_no_params"
   ]
  },
  {
   "cell_type": "markdown",
   "id": "mGwj7hqTlwxn",
   "metadata": {
    "id": "mGwj7hqTlwxn"
   },
   "source": [
    "Чтобы задать любой из параметров, необходимо добавить символ \"?\", за которым следует имя параметра и его значение.\n",
    "\n",
    "Давайте сделаем это и проверим, как выглядит конечный URL-адрес:"
   ]
  },
  {
   "cell_type": "code",
   "execution_count": null,
   "id": "Gvjrhj_0lwxo",
   "metadata": {
    "id": "Gvjrhj_0lwxo"
   },
   "outputs": [],
   "source": [
    "full_url = url_with_endpoint_no_params + \"?model=\" + model\n",
    "full_url"
   ]
  },
  {
   "cell_type": "markdown",
   "id": "f5ZGtZAglwxq",
   "metadata": {
    "id": "f5ZGtZAglwxq"
   },
   "source": [
    "Эта конечная точка ожидает как имя модели, так и изображение. Но поскольку изображение более сложное, оно не передается в URL-адресе. Вместо этого мы используем библиотеку `requests` для обработки этого процесса.\n",
    "\n",
    "# Отправка запроса на ваш сервер\n",
    "\n",
    "### Создание функции response_from_server\n",
    "\n",
    "Напомним, что эта конечная точка ожидает POST HTTP-запрос. Функция `post` является частью библиотеки запросов.\n",
    "\n",
    "Чтобы передать файл вместе с запросом, вам необходимо создать словарь с указанием имени файла (в данном случае \"file\") и фактического файла.\n",
    "\n",
    "`status code` - это удобная команда для проверки статуса ответа, вызванного запросом. **Код состояния 200 означает, что все прошло хорошо.**"
   ]
  },
  {
   "cell_type": "code",
   "execution_count": null,
   "id": "-t-gcZi_lwxs",
   "metadata": {
    "id": "-t-gcZi_lwxs"
   },
   "outputs": [],
   "source": [
    "def response_from_server(url, image_file, verbose=True):\n",
    "    \"\"\"Отправляет POST-запрос на сервер и возвращает ответ.\n",
    "\n",
    "    Аргументы:\n",
    "        url (str): URL-адрес, на который отправляется запрос\n",
    "        image_file (_io.BufferedReader): Файл для загрузки должен быть изображением.\n",
    "        verbose (bool): True, если статус ответа должен быть показан. В противном случае ложь.\n",
    "\n",
    "    Возвращает:\n",
    "        requests.models.Response: Ответ от сервера.\n",
    "    \"\"\"\n",
    "    \n",
    "    files = {'file': image_file}\n",
    "    response = requests.post(url, files=files)\n",
    "    status_code = response.status_code\n",
    "    if verbose:\n",
    "        msg = \"Everything went well!\" if status_code == 200 else \"There was an error when handling the request.\"\n",
    "        print(msg)\n",
    "    return response"
   ]
  },
  {
   "cell_type": "markdown",
   "id": "RA9SoXcAlwxu",
   "metadata": {
    "id": "RA9SoXcAlwxu"
   },
   "source": [
    "Чтобы протестировать эту функцию, откройте файл в вашей файловой системе и передайте его в качестве параметра вместе с URL-адресом:"
   ]
  },
  {
   "cell_type": "code",
   "execution_count": null,
   "id": "vNalcHhwlwxv",
   "metadata": {
    "id": "vNalcHhwlwxv"
   },
   "outputs": [],
   "source": [
    "with open(\"images/clock2.jpg\", \"rb\") as image_file:\n",
    "    prediction = response_from_server(full_url, image_file)"
   ]
  },
  {
   "cell_type": "markdown",
   "id": "bcrUzWRflwxw",
   "metadata": {
    "id": "bcrUzWRflwxw"
   },
   "source": [
    "Отличные новости! Запрос был выполнен успешно. Однако вы не получаете никакой информации об объектах на изображении.\n",
    "\n",
    "Чтобы получить изображение с ограничивающими рамками и метками, вам необходимо проанализировать содержимое ответа в соответствующем формате. Этот процесс очень похож на то, как вы считываете необработанные изображения в изображение cv2 на сервере.\n",
    "\n",
    "Чтобы выполнить этот шаг, давайте создадим каталог с именем `images_predicted`, чтобы сохранить изображение в:"
   ]
  },
  {
   "cell_type": "code",
   "execution_count": null,
   "id": "mPx93xkHlwxx",
   "metadata": {
    "id": "mPx93xkHlwxx"
   },
   "outputs": [],
   "source": [
    "dir_name = \"images_predicted\"\n",
    "if not os.path.exists(dir_name):\n",
    "    os.mkdir(dir_name)"
   ]
  },
  {
   "cell_type": "markdown",
   "id": "RTOCDlkVlwxx",
   "metadata": {
    "id": "RTOCDlkVlwxx"
   },
   "source": [
    "\n",
    "### Создание функции display_image_from_response"
   ]
  },
  {
   "cell_type": "code",
   "execution_count": null,
   "id": "dd-DSzG_lwxy",
   "metadata": {
    "id": "dd-DSzG_lwxy"
   },
   "outputs": [],
   "source": [
    "def display_image_from_response(response):\n",
    "    \"\"\"Отображение изображения в ответе сервера.\n",
    "\n",
    "    Аргументы:\n",
    "        response (requests.models.Response): Ответ от сервера после обнаружения объекта.\n",
    "    \"\"\"\n",
    "    \n",
    "    image_stream = io.BytesIO(response.content)\n",
    "    image_stream.seek(0)\n",
    "    file_bytes = np.asarray(bytearray(image_stream.read()), dtype=np.uint8)\n",
    "    image = cv2.imdecode(file_bytes, cv2.IMREAD_COLOR)\n",
    "    filename = \"image_with_objects.jpeg\"\n",
    "    cv2.imwrite(f'images_predicted/{filename}', image)\n",
    "    display(Image(f'images_predicted/{filename}'))"
   ]
  },
  {
   "cell_type": "code",
   "execution_count": null,
   "id": "GlVLQOMKlwxz",
   "metadata": {
    "id": "GlVLQOMKlwxz"
   },
   "outputs": [],
   "source": [
    "display_image_from_response(prediction)"
   ]
  },
  {
   "cell_type": "markdown",
   "id": "qsb36mYZlwx0",
   "metadata": {
    "id": "qsb36mYZlwx0"
   },
   "source": [
    "Теперь вы готовы использовать свою модель обнаружения объектов через свой собственный клиент!\n",
    "\n",
    "Давайте проверим ее на некоторых других изображениях:"
   ]
  },
  {
   "cell_type": "code",
   "execution_count": null,
   "id": "sONCFR_Flwx1",
   "metadata": {
    "id": "sONCFR_Flwx1"
   },
   "outputs": [],
   "source": [
    "image_files = [\n",
    "    'car2.jpg',\n",
    "    'clock3.jpg',\n",
    "    'apples.jpg'\n",
    "]\n",
    "\n",
    "for image_file in image_files:\n",
    "    with open(f\"images/{image_file}\", \"rb\") as image_file:\n",
    "        prediction = response_from_server(full_url, image_file, verbose=False)\n",
    "    \n",
    "    display_image_from_response(prediction)"
   ]
  },
  {
   "cell_type": "markdown",
   "id": "pK9UGXFHlwx2",
   "metadata": {
    "id": "pK9UGXFHlwx2"
   },
   "source": [
    "**Поздравляю с окончанием этой работы!** У реальных клиентов и серверов гораздо больше возможностей с точки зрения безопасности и производительности. Однако код, с которым вы только что столкнулись, близок к тому, что вы видите в реальных производственных средах.\n",
    "Надеемся, что эта лабораторная работа расширила ваше представление о процессе развертывания модели глубокого обучения и использования ее в работе.\n",
    "\n",
    "**Продолжайте в том же духе!**"
   ]
  }
 ],
 "metadata": {
  "colab": {
   "collapsed_sections": [],
   "name": "client.ipynb",
   "provenance": []
  },
  "kernelspec": {
   "display_name": "Python 3",
   "language": "python",
   "name": "python3"
  },
  "language_info": {
   "codemirror_mode": {
    "name": "ipython",
    "version": 3
   },
   "file_extension": ".py",
   "mimetype": "text/x-python",
   "name": "python",
   "nbconvert_exporter": "python",
   "pygments_lexer": "ipython3",
   "version": "3.8.6"
  }
 },
 "nbformat": 4,
 "nbformat_minor": 5
}
